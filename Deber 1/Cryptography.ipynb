{
 "cells": [
  {
   "cell_type": "markdown",
   "id": "e8a0e892",
   "metadata": {},
   "source": [
    "# MOD 26"
   ]
  },
  {
   "cell_type": "code",
   "execution_count": null,
   "id": "b44ce5d4",
   "metadata": {
    "scrolled": true
   },
   "outputs": [],
   "source": [
    "import codecs\n",
    "\n",
    "mensaje_cifrado = \"cvpbPGS{arkg_gvzr_V'yy_gel_2_ebhaqf_bs_ebg13_jdJBFOXJ}\"\n",
    "mensaje_descifrado = codecs.encode(mensaje_cifrado, 'rot_13')\n",
    "\n",
    "print(mensaje_descifrado)"
   ]
  },
  {
   "cell_type": "markdown",
   "id": "661db0f4",
   "metadata": {},
   "source": [
    "# Easy Peasy"
   ]
  },
  {
   "cell_type": "code",
   "execution_count": null,
   "id": "07ba68f8",
   "metadata": {},
   "outputs": [],
   "source": [
    "\"\"\"\n",
    "ncat.exe mercury.picoctf.net 41934\n",
    "******************Welcome to our OTP implementation!******************\n",
    "This is the encrypted flag!\n",
    "0345376e1e5406691d5c076c4050046e4000036a1a005c6b1904531d3941055d\n",
    "\n",
    "python -c \"print('a'*49968); print('a'*32)\" | ncat.exe mercury.picoctf.net 41934\n",
    "0346303d1902033d1959003d1903553d1951553d1907593d1951511a3d190505\n",
    "\"\"\"\n",
    "\n",
    "ef = 0x0345376e1e5406691d5c076c4050046e4000036a1a005c6b1904531d3941055d\n",
    "ea = 0x0346303d1902033d1959003d1903553d1951553d1907593d1951511a3d190505\n",
    "pa = 0x6161616161616161616161616161616161616161616161616161616161616161\n",
    "\n",
    "resultado = ef ^ ea ^ pa\n",
    "resultado_hex = '{:x}'.format(resultado)\n",
    "#print(resultado_hex)\n",
    "\n",
    "# Convierte el valor hexadecimal en una cadena de bytes\n",
    "bytes_hex = bytes.fromhex(resultado_hex)\n",
    "\n",
    "# Decodifica los bytes a texto ASCII\n",
    "flag = bytes_hex.decode('ascii')\n",
    "\n",
    "print(\"picoCTF{\", flag,\"}\")\n",
    "\n"
   ]
  },
  {
   "cell_type": "markdown",
   "id": "c2cc328a",
   "metadata": {},
   "source": [
    "# The Numbers"
   ]
  },
  {
   "cell_type": "code",
   "execution_count": null,
   "id": "aeb62909",
   "metadata": {},
   "outputs": [],
   "source": [
    "def descifrar_mensaje(secuencia_numeros):\n",
    "    mensaje_descifrado = ''.join(chr(numero + ord('a') - 1) for numero in secuencia_numeros)\n",
    "    return f\"picoCTF{{{mensaje_descifrado}}}\"\n",
    "\n",
    "if __name__ == \"__main__\":\n",
    "    secuencia_numeros = [20, 8, 5, 14, 21, 13, 2, 5, 18, 19, 13, 1, 19, 15, 14]\n",
    "    mensaje_descifrado = descifrar_mensaje(secuencia_numeros)\n",
    "    print(mensaje_descifrado)\n"
   ]
  },
  {
   "cell_type": "markdown",
   "id": "89146645",
   "metadata": {},
   "source": [
    "# New Caesar"
   ]
  },
  {
   "cell_type": "code",
   "execution_count": null,
   "id": "08085d5a",
   "metadata": {
    "scrolled": true
   },
   "outputs": [],
   "source": [
    "import string\n",
    "\n",
    "LOWERCASE_OFFSET = ord(\"a\")\n",
    "ALPHABET = string.ascii_lowercase[:16]\n",
    "\n",
    "def b16_decode(encoded):\n",
    "    plain = \"\"\n",
    "    for i in range(0, len(encoded), 2):\n",
    "        binary = \"{0:04b}{1:04b}\".format(ALPHABET.index(encoded[i]), ALPHABET.index(encoded[i+1]))\n",
    "        plain += chr(int(binary, 2))\n",
    "    return plain\n",
    "\n",
    "def unshift(c, k):\n",
    "    t1 = ord(c) - LOWERCASE_OFFSET\n",
    "    t2 = ord(k) - LOWERCASE_OFFSET\n",
    "    return ALPHABET[(t1 - t2) % len(ALPHABET)]\n",
    "\n",
    "def descifrar_mensaje(mensaje_cifrado):\n",
    "    for k in ALPHABET:\n",
    "        b16 = \"\"\n",
    "        for c in mensaje_cifrado:\n",
    "            b16 += unshift(c, k)\n",
    "        flag = b16_decode(b16)\n",
    "        print(\"picoCTF{\" + flag + \"}\")\n",
    "\n",
    "if __name__ == \"__main__\":\n",
    "    mensaje_cifrado = \"ihjghbjgjhfbhbfcfjflfjiifdfgffihfeigidfligigffihfjfhfhfhigfjfffjfeihihfdieieih\"\n",
    "    descifrar_mensaje(mensaje_cifrado)\n",
    "    \n",
    "    #Respuesta\n",
    "    #picoCTF{et_tu?_0797f143e2da9dd3e7555d7372ee1bbe}"
   ]
  },
  {
   "cell_type": "markdown",
   "id": "dde6c3ac",
   "metadata": {},
   "source": [
    "# 13"
   ]
  },
  {
   "cell_type": "code",
   "execution_count": null,
   "id": "a92c4276",
   "metadata": {},
   "outputs": [],
   "source": [
    "import codecs\n",
    "\n",
    "mensaje_cifrado = \"cvpbPGS{abg_gbb_onq_bs_n_ceboyrz}\"\n",
    "mensaje_descifrado = codecs.encode(mensaje_cifrado, 'rot_13')\n",
    "\n",
    "print(mensaje_descifrado)"
   ]
  },
  {
   "cell_type": "markdown",
   "id": "b880733d",
   "metadata": {},
   "source": [
    "# caesar"
   ]
  },
  {
   "cell_type": "code",
   "execution_count": null,
   "id": "7480808c",
   "metadata": {},
   "outputs": [],
   "source": [
    "def custom_caesar_decrypt(text, shift):\n",
    "    result = \"\"\n",
    "    for char in text:\n",
    "        if char.isalpha():\n",
    "            offset = ord('a') if char.islower() else ord('A')\n",
    "            result += chr((ord(char) - offset - shift) % 26 + offset)\n",
    "        else:\n",
    "            result += char\n",
    "    return result\n",
    "\n",
    "if __name__ == \"__main__\":\n",
    "    encrypted_text = \"picoCTF{ynkooejcpdanqxeykjrbdofgkq}\"\n",
    "    for shift_amount in range(1, 26):\n",
    "        decrypted_text = custom_caesar_decrypt(encrypted_text, shift_amount)\n",
    "        print(f\"Shift {shift_amount}: {decrypted_text}\")\n",
    "\n",
    "        #picoCTF{crossingtherubiconvfhsjkou}"
   ]
  },
  {
   "cell_type": "markdown",
   "id": "79f9785e",
   "metadata": {},
   "source": [
    "# Easy1"
   ]
  },
  {
   "cell_type": "code",
   "execution_count": null,
   "id": "fa9430f9",
   "metadata": {},
   "outputs": [],
   "source": [
    "def decrypt_vigenere(ciphertext, secret_key):\n",
    "    alphabet = \"ABCDEFGHIJKLMNOPQRSTUVWXYZ\"\n",
    "    decrypted_message = \"\"\n",
    "    key_length = len(secret_key)\n",
    "    \n",
    "    for i in range(len(ciphertext)):\n",
    "        cipher_char = ciphertext[i]\n",
    "        key_char = secret_key[i % key_length]\n",
    "        \n",
    "        if cipher_char in alphabet:\n",
    "            cipher_char_index = alphabet.index(cipher_char)\n",
    "            key_char_index = alphabet.index(key_char)\n",
    "            \n",
    "            decrypted_char_index = (cipher_char_index - key_char_index) % 26\n",
    "            decrypted_message += alphabet[decrypted_char_index]\n",
    "        else:\n",
    "            decrypted_message += cipher_char\n",
    "    \n",
    "    return decrypted_message\n",
    "\n",
    "if __name__ == \"__main__\":\n",
    "    cipher_text = \"UFJKXQZQUNB\"\n",
    "    secret_key = \"SOLVECRYPTO\"\n",
    "    plain_text = decrypt_vigenere(cipher_text, secret_key)\n",
    "    print(\"picoCTF{\" + plain_text + \"}\")\n"
   ]
  },
  {
   "cell_type": "markdown",
   "id": "82a8e6bd",
   "metadata": {},
   "source": [
    "# Spelling Quiz"
   ]
  },
  {
   "cell_type": "code",
   "execution_count": 2,
   "id": "58e20ee1",
   "metadata": {},
   "outputs": [
    {
     "name": "stdout",
     "output_type": "stream",
     "text": [
      "Encrypted Flag: perhaps_the_dog_jumped_over_was_just_tired\n"
     ]
    }
   ],
   "source": [
    "import random\n",
    "\n",
    "# Define the substitution cipher key\n",
    "key = 'xunmrydfwhglstibjcavopezqk'\n",
    "#I got the key from an online page analysing some of the text form the study-guide.txt\n",
    "alphabet = 'abcdefghijklmnopqrstuvwxyz'\n",
    "dictionary = dict(zip(key, alphabet))\n",
    "\n",
    "# Function to encrypt text\n",
    "def encrypt(text):\n",
    "    encrypted = ''.join([dictionary[c] if c in dictionary else c for c in text])\n",
    "    return encrypted\n",
    "\n",
    "# Read the flag from flag.txt\n",
    "with open('flag.txt', 'r') as flag_file:\n",
    "    flag = flag_file.read().strip()\n",
    "\n",
    "# Encrypt the flag\n",
    "encrypted_flag = encrypt(flag)\n",
    "print(\"Encrypted Flag:\", encrypted_flag)\n"
   ]
  },
  {
   "cell_type": "code",
   "execution_count": null,
   "id": "53e0da51",
   "metadata": {},
   "outputs": [],
   "source": []
  }
 ],
 "metadata": {
  "kernelspec": {
   "display_name": "Python 3",
   "language": "python",
   "name": "python3"
  },
  "language_info": {
   "codemirror_mode": {
    "name": "ipython",
    "version": 3
   },
   "file_extension": ".py",
   "mimetype": "text/x-python",
   "name": "python",
   "nbconvert_exporter": "python",
   "pygments_lexer": "ipython3",
   "version": "3.8.8"
  }
 },
 "nbformat": 4,
 "nbformat_minor": 5
}
