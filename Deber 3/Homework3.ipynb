{
 "cells": [
  {
   "cell_type": "markdown",
   "id": "ff4ab3f2",
   "metadata": {},
   "source": [
    "# HOMEWORK 3"
   ]
  },
  {
   "cell_type": "markdown",
   "id": "34c51313",
   "metadata": {},
   "source": [
    "## Challenge Cookies"
   ]
  },
  {
   "cell_type": "markdown",
   "id": "307a8154",
   "metadata": {},
   "source": [
    "I created a search algorithm, which analyzes the page **http://mercury.picoctf.net:54219/check** to check the value of each cookie, one by one, until it finds a flag"
   ]
  },
  {
   "cell_type": "code",
   "execution_count": 7,
   "id": "96ba74ca",
   "metadata": {},
   "outputs": [
    {
     "name": "stdout",
     "output_type": "stream",
     "text": [
      "Trial with cookie 0: unsuccessful\n",
      "Trial with cookie 1: unsuccessful\n",
      "Trial with cookie 2: unsuccessful\n",
      "Trial with cookie 3: unsuccessful\n",
      "Trial with cookie 4: unsuccessful\n",
      "Trial with cookie 5: unsuccessful\n",
      "Trial with cookie 6: unsuccessful\n",
      "Trial with cookie 7: unsuccessful\n",
      "Trial with cookie 8: unsuccessful\n",
      "Trial with cookie 9: unsuccessful\n",
      "Trial with cookie 10: unsuccessful\n",
      "Trial with cookie 11: unsuccessful\n",
      "Trial with cookie 12: unsuccessful\n",
      "Trial with cookie 13: unsuccessful\n",
      "Trial with cookie 14: unsuccessful\n",
      "Trial with cookie 15: unsuccessful\n",
      "Trial with cookie 16: unsuccessful\n",
      "Trial with cookie 17: unsuccessful\n",
      "Flag found: picoCTF{3v3ry1_l0v3s_c00k135_96cdadfd}\n"
     ]
    }
   ],
   "source": [
    "import requests\n",
    "import re\n",
    "\n",
    "# Expresión regular para buscar la flag de picoCTF\n",
    "flag_pattern = re.compile('picoCTF{\\S+}')\n",
    "\n",
    "# Bucle para probar diferentes valores de cookies\n",
    "for num in range(100):\n",
    "    cookie_value = f'name={num}'\n",
    "    custom_headers = {'Cookie': cookie_value}\n",
    "\n",
    "    response = requests.get('http://mercury.picoctf.net:54219/check', headers=custom_headers)\n",
    "\n",
    "    # Verifica si la respuesta es exitosa\n",
    "    if response.ok:\n",
    "        # Intenta encontrar la flag en el contenido de la respuesta\n",
    "        flag_search = flag_pattern.search(response.text)\n",
    "        if flag_search:\n",
    "            print(\"Flag found:\", flag_search.group())\n",
    "            break\n",
    "        else:\n",
    "            print(f'Trial with cookie {num}: unsuccessful')\n"
   ]
  },
  {
   "cell_type": "markdown",
   "id": "80a20913",
   "metadata": {},
   "source": [
    "#### Alternative Solution\n",
    "Using Google Chrome extension \"cookie-editor\"\n",
    "\n",
    "At http://mercury.picoctf.net:54219/ I checked the value of the cookie inserted, for example snickerdoodle had value 0\n",
    "\n",
    "Then tried diferent values to reveal the flag, one by one\n",
    "\n",
    "Value 18 was flag picoCTF{3v3ry1_l0v3s_c00k135_96cdadfd}\n"
   ]
  },
  {
   "cell_type": "markdown",
   "id": "55742d81",
   "metadata": {},
   "source": [
    "**------------------------------------------------------------------------------------------------------------------------------------------------------------------------------------------------------------------**"
   ]
  },
  {
   "cell_type": "markdown",
   "id": "6f4ef6cc",
   "metadata": {},
   "source": [
    "## Challenge Scavenger Hunt"
   ]
  },
  {
   "cell_type": "markdown",
   "id": "4f6feacb",
   "metadata": {},
   "source": [
    "The page http://mercury.picoctf.net:5080/ reveals that HTML, CSS, and JS were used to create it, so let's check the source code of the page.\n",
    "\n",
    "In the HTML file, the first part of the flag is revealed --> **picoCTF{t**\n",
    "<img src=\"Images/ScavengerHunt1.jpg\" alt=\"\" width=\"600\" height=\"400\">\n",
    "\n",
    "\n",
    "In the CSS file, the second part of the flag is revealed --> **h4ts_4_l0**\n",
    "<img src=\"Images/ScavengerHunt2.jpg\" alt=\"\" width=\"600\" height=\"400\">\n",
    "\n",
    "In the JS file, a clue is revealed saying **How can I keep Google from indexing my website?**\n",
    "<img src=\"Images/ScavengerHunt3.jpg\" alt=\"\" width=\"600\" height=\"400\">\n",
    "\n",
    "\n",
    "The clue suggests checking the robots.txt file to understand how a website is managing the access of search engine crawlers like Google.\n",
    "\n",
    "This can be revealed by replacing /myjs.js with /robots.txt in the URL.\n",
    "\n",
    "It reveals the third part of the flag --> **t_0f_pl4c**\n",
    "\n",
    "It also reveals a clue saying **# I think this is an apache server... can you Access the next flag?**\n",
    "\n",
    "<img src=\"Images/ScavengerHunt4.jpg\" alt=\"\" width=\"600\" height=\"400\">\n",
    "\n",
    "\n",
    "The clue suggests checking the .htaccess file because in Apache servers, this file is used to configure access and security rules at the directory level.\n",
    "\n",
    "This can be revealed by replacing /robots.txt with /.htaccess in the URL.\n",
    "\n",
    "It reveals the fourth part of the flag --> **3s_2_lO0k**\n",
    "\n",
    "It also reveals another clue saying **# # I love making websites on my Mac, I can Store a lot of information there.**\n",
    "\n",
    "<img src=\"Images/ScavengerHunt5.jpg\" alt=\"\" width=\"600\" height=\"400\">\n",
    "\n",
    "\n",
    "The clue suggests checking .DS_Store files, which contain information about the configuration and content of folders.\n",
    "\n",
    "This can be revealed by replacing /.htacess with /.DS_Store.\n",
    "\n",
    "It reveals the fifth and final part of the flag --> **_35844447}**   \n",
    "\n",
    "<img src=\"Images/ScavengerHunt6.jpg\" alt=\"\" width=\"600\" height=\"400\">\n",
    "\n",
    "\n",
    "Complete Flag --> **picoCTF{th4ts_4_l0t_0f_pl4c3s_2_lO0k_35844447}**"
   ]
  },
  {
   "cell_type": "markdown",
   "id": "1df21e27",
   "metadata": {},
   "source": [
    "**------------------------------------------------------------------------------------------------------------------------------------------------------------------------------------------------------------------**"
   ]
  },
  {
   "cell_type": "markdown",
   "id": "72ad5d9d",
   "metadata": {},
   "source": [
    "## Challenge findme"
   ]
  },
  {
   "cell_type": "markdown",
   "id": "b8a884f2",
   "metadata": {},
   "source": [
    "From the \"login\" page:\n",
    "\n",
    "http://saturn.picoctf.net:55455/login\n",
    "\n",
    "We log in as instructed and are redirected to the \"home\" page:\n",
    "\n",
    "http://saturn.picoctf.net:55455/home\n",
    "\n",
    "Here we receive a clue about redirection, similar to a hint in picoCTF about redirection.\n",
    "\n",
    "We proceed to open the web inspector and navigate to the network section to observe the redirection from logging in on the \"login\" page to the \"home\" page.\n",
    "\n",
    "We notice that the transition from \"login\" to \"home\" also involves redirection through two additional pages:\n",
    "\n",
    "http://saturn.picoctf.net:55455/next-page/id=cGljb0NURntwcm94aWVzX2Fs\n",
    "\n",
    "http://saturn.picoctf.net:55455/next-page/id=bF90aGVfd2F5X2RmNDRjOTRjfQ==\n",
    "\n",
    "<img src=\"Images/findme0.jpg\" alt=\"\" width=\"600\" height=\"400\">\n",
    "\n",
    "Analyzing the two redirection pages more closely:\n",
    "\n",
    "Page 1:\n",
    "<img src=\"Images/findme1.jpg\" alt=\"\" width=\"600\" height=\"400\">\n",
    "\n",
    "Page 2:\n",
    "<img src=\"Images/findme2.jpg\" alt=\"\" width=\"600\" height=\"400\">\n",
    "\n",
    "Notice that each page has an ID.\n",
    "\n",
    "These IDs appear to be in Base64 format because one of them ends in '==', which is a characteristic that caught my attention. \n",
    "\n",
    "I proceed to decode the IDs and obtain the flag."
   ]
  },
  {
   "cell_type": "code",
   "execution_count": 6,
   "id": "68710b67",
   "metadata": {},
   "outputs": [
    {
     "name": "stdout",
     "output_type": "stream",
     "text": [
      "Complete Flag --> picoCTF{proxies_all_the_way_df44c94c}\n"
     ]
    }
   ],
   "source": [
    "import base64\n",
    "\n",
    "def decodificar_base64(id_base64):\n",
    "    id_decodificado = base64.b64decode(id_base64).decode('utf-8')\n",
    "    return id_decodificado\n",
    "\n",
    "id1 = \"cGljb0NURntwcm94aWVzX2Fs\"\n",
    "id2 = \"bF90aGVfd2F5X2RmNDRjOTRjfQ==\"\n",
    "\n",
    "id1_decodificado = decodificar_base64(id1)\n",
    "id2_decodificado = decodificar_base64(id2)\n",
    "\n",
    "print(\"Complete Flag --> \" + id1_decodificado + id2_decodificado)"
   ]
  },
  {
   "cell_type": "markdown",
   "id": "41e8ef1a",
   "metadata": {},
   "source": [
    "**------------------------------------------------------------------------------------------------------------------------------------------------------------------------------------------------------------------**"
   ]
  },
  {
   "cell_type": "markdown",
   "id": "6c888a73",
   "metadata": {},
   "source": [
    "## Challenge Inspect HTML"
   ]
  },
  {
   "cell_type": "markdown",
   "id": "91f66f13",
   "metadata": {},
   "source": [
    "This challenge was a giveaway.\n",
    "\n",
    "As the hint and its name suggest, one should open the web inspector or view the HTML source code of the page.\n",
    "\n",
    "And there it is, the flag is in a comment.\n",
    "\n",
    "<img src=\"Images/inspectHtml0.jpg\" alt=\"\" width=\"600\" height=\"400\">\n",
    "\n",
    "Complete Flag --> **picoCTF{1n5p3t0r_0f_h7ml_1fd8425b}**"
   ]
  },
  {
   "cell_type": "markdown",
   "id": "ca25389b",
   "metadata": {},
   "source": [
    "**------------------------------------------------------------------------------------------------------------------------------------------------------------------------------------------------------------------**"
   ]
  },
  {
   "cell_type": "markdown",
   "id": "b94d0293",
   "metadata": {},
   "source": [
    "## Challenge It is my Birthday"
   ]
  },
  {
   "cell_type": "markdown",
   "id": "c2be7e52",
   "metadata": {},
   "source": [
    "To solve the exercise, I used the examples \"poeMD5 A\" and \"poeMD5 B\" found in the PDF collisions section on the GitHub page corkami/collisions. \n",
    "\n",
    "https://github.com/corkami/collisions#pdf\n",
    "\n",
    "\n",
    "These were two distinct PDF documents that shared the same MD5 hash due to a precalculated MD5 hash collision. \n",
    "\n",
    "This meant I didn't need to make any further modifications to the files to fit the challenge.\n",
    "\n",
    "Once I downloaded these files, I simply uploaded them to the website provided in the challenge. \n",
    "\n",
    "<img src=\"Images/itsmybirthday1.jpg\" alt=\"\" width=\"600\" height=\"400\">\n",
    "\n",
    "Since both files met the key condition of having the same MD5 hash while being different, I was confident they would satisfy the challenge requirements. \n",
    "\n",
    "Upon their successful upload, I was able to complete the challenge and retrieve the solution.\n",
    "\n",
    "<img src=\"Images/itsmybirthday2.jpg\" alt=\"\" width=\"600\" height=\"400\">\n",
    "\n",
    "Complete Flag --> **picoCTF{c0ngr4ts_u_r_1nv1t3d_5c8c5ce2}**"
   ]
  },
  {
   "cell_type": "markdown",
   "id": "62eba0ab",
   "metadata": {},
   "source": [
    "**------------------------------------------------------------------------------------------------------------------------------------------------------------------------------------------------------------------**"
   ]
  },
  {
   "cell_type": "markdown",
   "id": "e82343c9",
   "metadata": {},
   "source": [
    "## Challenge Local Authority"
   ]
  },
  {
   "cell_type": "markdown",
   "id": "e37f403d",
   "metadata": {},
   "source": [
    "The challenge recommends checking how the password verification is done.\n",
    "\n",
    "To do this, we inspect the page.\n",
    "\n",
    "We notice there is a PHP file.\n",
    "\n",
    "<img src=\"Images/localAuthority1.jpg\" alt=\"\" width=\"600\" height=\"400\">\n",
    "\n",
    "So when we log in with random information\n",
    "\n",
    "<img src=\"Images/localAuthority2.jpg\" alt=\"\" width=\"600\" height=\"400\">\n",
    "\n",
    "It redirects us to the PHP file and shows an error message.\n",
    "\n",
    "<img src=\"Images/localAuthority3.jpg\" alt=\"\" width=\"600\" height=\"400\">\n",
    "\n",
    "We can inspect this page for more information on how the password check works.\n",
    "\n",
    "However, there is also a secure.js file which reveals the correct username and password.\n",
    "\n",
    "<img src=\"Images/localAuthority4.jpg\" alt=\"\" width=\"600\" height=\"400\">\n",
    "\n",
    "Returning to the main portal to log in with the correct username and password, it redirects us to the flag.\n",
    "\n",
    "<img src=\"Images/localAuthority5.jpg\" alt=\"\" width=\"600\" height=\"400\">\n",
    "\n",
    "\n",
    "Completed flag --> **picoCTF{j5_15_7r4n5p4r3n7_b0c2c9cb}**"
   ]
  },
  {
   "cell_type": "markdown",
   "id": "6bdb87d8",
   "metadata": {},
   "source": [
    "**------------------------------------------------------------------------------------------------------------------------------------------------------------------------------------------------------------------**"
   ]
  },
  {
   "cell_type": "markdown",
   "id": "731d6462",
   "metadata": {},
   "source": [
    "## Challenge login"
   ]
  },
  {
   "cell_type": "markdown",
   "id": "55adefc7",
   "metadata": {},
   "source": [
    "I began by inspecting the source code of the page, where I noticed the index.js file, which would provide more information about the login.\n",
    "\n",
    "<img src=\"Images/login1.jpg\" alt=\"\" width=\"600\" height=\"400\">\n",
    "\n",
    "Inside the index.js, there is a JavaScript function: \n",
    "\n",
    "<img src=\"Images/login2.jpg\" alt=\"\" width=\"600\" height=\"400\">\n",
    "\n",
    "**(async () => {\n",
    "    await new Promise((e => window.addEventListener(\"load\", e))), document.querySelector(\"form\").addEventListener(\"submit\", (e => {\n",
    "        e.preventDefault();\n",
    "        const r = {\n",
    "                u: \"input[name=username]\",\n",
    "                p: \"input[name=password]\"\n",
    "            },\n",
    "            t = {};\n",
    "        for (const e in r) t[e] = btoa(document.querySelector(r[e]).value).replace(/=/g, \"\");\n",
    "        return \"YWRtaW4\" !== t.u ? alert(\"Incorrect Username\") : \"cGljb0NURns1M3J2M3JfNTNydjNyXzUzcnYzcl81M3J2M3JfNTNydjNyfQ\" !== t.p ? alert(\"Incorrect Password\") : void alert(`Correct Password! Your flag is ${atob(t.p)}.`)\n",
    "    }))\n",
    "})();**\n",
    "\n",
    "This function acts as an event handler for a web form. It prevents the default behavior when the form is submitted, captures and encodes the username and password values in base-64 using btoa(), and compares them with predefined values. If they don't match, it displays alerts. If they match, it decodes the password and displays the flag. \n",
    "\n",
    "Having access to this function allowed me to identify which values I needed to decode from base-64 to obtain the flag, as the encoded values were explicitly present in the code."
   ]
  },
  {
   "cell_type": "code",
   "execution_count": 20,
   "id": "b5c5fa5e",
   "metadata": {},
   "outputs": [
    {
     "name": "stdout",
     "output_type": "stream",
     "text": [
      "admin\n",
      "picoCTF{53rv3r_53rv3r_53rv3r_53rv3r_53rv3r}\n"
     ]
    }
   ],
   "source": [
    "import base64\n",
    "\n",
    "def decodificar_base64(id_base64):\n",
    "    # Asegurarse de que la cadena sea un múltiplo de 4\n",
    "    while len(id_base64) % 4 != 0:\n",
    "        id_base64 += \"=\"\n",
    "    id_decodificado = base64.b64decode(id_base64).decode('utf-8')\n",
    "    return id_decodificado\n",
    "\n",
    "id1 = \"YWRtaW4\"\n",
    "id2 = \"cGljb0NURns1M3J2M3JfNTNydjNyXzUzcnYzcl81M3J2M3JfNTNydjNyfQ\"\n",
    "\n",
    "id1_decodificado = decodificar_base64(id1)\n",
    "id2_decodificado = decodificar_base64(id2)\n",
    "\n",
    "print(id1_decodificado)\n",
    "print(id2_decodificado)\n"
   ]
  },
  {
   "cell_type": "markdown",
   "id": "50ddfc9c",
   "metadata": {},
   "source": [
    "**------------------------------------------------------------------------------------------------------------------------------------------------------------------------------------------------------------------**"
   ]
  },
  {
   "cell_type": "markdown",
   "id": "c75090aa",
   "metadata": {},
   "source": [
    "## Challenge logon"
   ]
  },
  {
   "cell_type": "markdown",
   "id": "edb497c9",
   "metadata": {},
   "source": [
    "I started by entering random values to sign in on the challenge page.\n",
    "\n",
    "<img src=\"Images/logon1.jpg\" alt=\"\" width=\"600\" height=\"400\">\n",
    "\n",
    "I was redirected to the /flag page which mentioned that I logged in but there was no flag for me.\n",
    "\n",
    "<img src=\"Images/logon2.jpg\" alt=\"\" width=\"600\" height=\"400\">\n",
    "\n",
    "I inspected this page to find out what was happening. After much searching, in the network section under the /flag page, I found in the page's cookie that admin was set to false and needed to be changed to true.\n",
    "\n",
    "<img src=\"Images/logon3.jpg\" alt=\"\" width=\"600\" height=\"400\">\n",
    "\n",
    "To do this, I went to the Applications section of the page, looked for the cookies section, selected the domain, and changed the admin value to true.\n",
    "\n",
    "<img src=\"Images/logon4.jpg\" alt=\"\" width=\"600\" height=\"400\">\n",
    "\n",
    "I reloaded the page, and there it was, I got the flag.\n",
    "\n",
    "<img src=\"Images/logon5.jpg\" alt=\"\" width=\"600\" height=\"400\">\n",
    "\n",
    "\n",
    "Completed flag --> **picoCTF{th3_c0nsp1r4cy_l1v3s_6edb3f5f}**"
   ]
  },
  {
   "cell_type": "markdown",
   "id": "532960bd",
   "metadata": {},
   "source": [
    "**------------------------------------------------------------------------------------------------------------------------------------------------------------------------------------------------------------------**"
   ]
  },
  {
   "cell_type": "markdown",
   "id": "e3d61894",
   "metadata": {},
   "source": [
    "## Challenge Search source"
   ]
  },
  {
   "cell_type": "markdown",
   "id": "03c79128",
   "metadata": {},
   "source": [
    "After spending a lot of time looking for clues or anything, I realized that there is too much code to go through.\n",
    "\n",
    "I decided to mirror the website on my local machine so I could use more powerful tools for searching.\n",
    "\n",
    "\n",
    "From my terminal, I execute the command **> wget -r http://saturn.picoctf.net:59405/** to download all the files from the webpage onto my local machine.\n",
    "\n",
    "<img src=\"Images/searchSource1.jpg\" alt=\"\" width=\"600\" height=\"400\">\n",
    "\n",
    "Then, in the terminal, I navigate to the folder containing the downloaded webpage files and proceed to search for the flag using the command **findstr /s /i \"pico\" ***, this will search for the string \"pico\" in all files in the folder and its subfolders.\n",
    "\n",
    "The flag was found and it also tolds us where it was hidden.\n",
    "\n",
    "<img src=\"Images/searchSource2.jpg\" alt=\"\" width=\"600\" height=\"400\">\n",
    "\n",
    "Completed flag --> **picoCTF{1nsp3ti0n_0f_w3bpag3s_8de925a7}**"
   ]
  },
  {
   "cell_type": "markdown",
   "id": "1b2c6f91",
   "metadata": {},
   "source": [
    "**------------------------------------------------------------------------------------------------------------------------------------------------------------------------------------------------------------------**"
   ]
  },
  {
   "cell_type": "markdown",
   "id": "8e67b827",
   "metadata": {},
   "source": [
    "## Challenge where are the robots"
   ]
  },
  {
   "cell_type": "markdown",
   "id": "3e6cfc06",
   "metadata": {},
   "source": [
    "As the name of the challenge and the message of the page suggest, \"where are the robots\".\n",
    "\n",
    "<img src=\"Images/whererobots0.jpg\" alt=\"\" width=\"300\" height=\"200\">\n",
    "\n",
    "The clue suggests checking the robots.txt file, for this we add /robots.txt in the url\n",
    "\n",
    "<img src=\"Images/whererobots1.jpg\" alt=\"\" width=\"600\" height=\"400\">\n",
    "\n",
    "Here we realize What part of the website the creator doesn't want us to look at.\n",
    "\n",
    "This can be revealed by replacing /robots.txt with /8028f.html in the URL.\n",
    "\n",
    "<img src=\"Images/whererobots2.jpg\" alt=\"\" width=\"600\" height=\"400\">\n",
    "\n",
    "Confirming that we found the robots and revealing the flag.\n",
    "\n",
    "Completed flag --> **picoCTF{ca1cu1at1ng_Mach1n3s_8028f}**"
   ]
  },
  {
   "cell_type": "markdown",
   "id": "ca03efc8",
   "metadata": {},
   "source": [
    "**------------------------------------------------------------------------------------------------------------------------------------------------------------------------------------------------------------------**"
   ]
  }
 ],
 "metadata": {
  "kernelspec": {
   "display_name": "Python 3",
   "language": "python",
   "name": "python3"
  },
  "language_info": {
   "codemirror_mode": {
    "name": "ipython",
    "version": 3
   },
   "file_extension": ".py",
   "mimetype": "text/x-python",
   "name": "python",
   "nbconvert_exporter": "python",
   "pygments_lexer": "ipython3",
   "version": "3.8.8"
  }
 },
 "nbformat": 4,
 "nbformat_minor": 5
}
